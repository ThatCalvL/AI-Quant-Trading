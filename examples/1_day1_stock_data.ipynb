{
 "cells": [
  {
   "cell_type": "markdown",
   "metadata": {},
   "source": [
    "# 第一天：量化交易基础概念与环境准备\n",
    "\n",
    "在这个Notebook中，我们将学习如何使用Python获取股票数据，这是量化交易的第一步。\n",
    "\n",
    "## 学习目标\n",
    "- 了解如何使用yfinance库获取股票历史数据\n",
    "- 使用pandas处理股票数据\n",
    "- 使用matplotlib可视化股票价格走势"
   ]
  },
  {
   "cell_type": "code",
   "execution_count": 1,
   "metadata": {},
   "outputs": [],
   "source": [
    "# 导入所需的库\n",
    "import yfinance as yf\n",
    "import pandas as pd\n",
    "import matplotlib.pyplot as plt\n",
    "from datetime import datetime, timedelta"
   ]
  },
  {
   "cell_type": "markdown",
   "metadata": {},
   "source": [
    "## 1. 获取股票数据\n",
    "\n",
    "首先，我们定义一个函数，用于获取指定股票的历史数据。"
   ]
  },
  {
   "cell_type": "code",
   "execution_count": 2,
   "metadata": {},
   "outputs": [],
   "source": [
    "def get_stock_data(symbol='AAPL', days=10):\n",
    "    \"\"\"\n",
    "    获取指定股票的历史数据\n",
    "    \n",
    "    参数:\n",
    "        symbol (str): 股票代码\n",
    "        days (int): 获取最近多少天的数据\n",
    "    \"\"\"\n",
    "    # 计算起始日期\n",
    "    end_date = datetime.now()\n",
    "    start_date = end_date - timedelta(days=days)\n",
    "    \n",
    "    # 获取股票数据\n",
    "    stock = yf.Ticker(symbol)\n",
    "    hist = stock.history(start=start_date, end=end_date)\n",
    "    \n",
    "    return hist"
   ]
  },
  {
   "cell_type": "markdown",
   "metadata": {},
   "source": [
    "## 2. 可视化股票价格\n",
    "\n",
    "接下来，我们定义一个函数，用于绘制股票收盘价走势图。"
   ]
  },
  {
   "cell_type": "code",
   "execution_count": 3,
   "metadata": {},
   "outputs": [],
   "source": [
    "def plot_stock_price(data):\n",
    "    \"\"\"\n",
    "    绘制股票收盘价走势图\n",
    "    \n",
    "    参数:\n",
    "        data (pd.DataFrame): 股票历史数据\n",
    "    \"\"\"\n",
    "    plt.figure(figsize=(10, 6))\n",
    "    plt.plot(data.index, data['Close'], label='收盘价')\n",
    "    plt.title('股票收盘价走势图')\n",
    "    plt.xlabel('日期')\n",
    "    plt.ylabel('价格')\n",
    "    plt.legend()\n",
    "    plt.grid(True)\n",
    "    plt.xticks(rotation=45)\n",
    "    plt.tight_layout()\n",
    "    plt.show()"
   ]
  },
  {
   "cell_type": "markdown",
   "metadata": {},
   "source": [
    "## 3. 获取并分析股票数据\n",
    "\n",
    "现在，让我们使用上面定义的函数来获取苹果公司最近10天的股票数据，并进行可视化。"
   ]
  },
  {
   "cell_type": "code",
   "execution_count": 4,
   "metadata": {},
   "outputs": [
    {
     "name": "stderr",
     "output_type": "stream",
     "text": [
      "AAPL: No price data found, symbol may be delisted (1d 2025-04-20 23:06:18.144705 -> 2025-04-30 23:06:18.144705)\n"
     ]
    },
    {
     "name": "stdout",
     "output_type": "stream",
     "text": [
      "\n",
      "最近的股票数据:\n",
      "Empty DataFrame\n",
      "Columns: [Open, High, Low, Close, Adj Close, Volume]\n",
      "Index: []\n"
     ]
    }
   ],
   "source": [
    "# 获取苹果公司最近10天的股票数据\n",
    "stock_data = get_stock_data('AAPL', 10)\n",
    "\n",
    "# 打印数据\n",
    "print(\"\\n最近的股票数据:\")\n",
    "print(stock_data.tail())"
   ]
  },
  {
   "cell_type": "code",
   "execution_count": 5,
   "metadata": {},
   "outputs": [
    {
     "name": "stderr",
     "output_type": "stream",
     "text": [
      "/var/folders/y2/_3pq15pd08556v211gq9jslr0000gn/T/ipykernel_12394/3494677472.py:16: UserWarning: Glyph 26085 (\\N{CJK UNIFIED IDEOGRAPH-65E5}) missing from current font.\n",
      "  plt.tight_layout()\n",
      "/var/folders/y2/_3pq15pd08556v211gq9jslr0000gn/T/ipykernel_12394/3494677472.py:16: UserWarning: Glyph 26399 (\\N{CJK UNIFIED IDEOGRAPH-671F}) missing from current font.\n",
      "  plt.tight_layout()\n",
      "/var/folders/y2/_3pq15pd08556v211gq9jslr0000gn/T/ipykernel_12394/3494677472.py:16: UserWarning: Glyph 20215 (\\N{CJK UNIFIED IDEOGRAPH-4EF7}) missing from current font.\n",
      "  plt.tight_layout()\n",
      "/var/folders/y2/_3pq15pd08556v211gq9jslr0000gn/T/ipykernel_12394/3494677472.py:16: UserWarning: Glyph 26684 (\\N{CJK UNIFIED IDEOGRAPH-683C}) missing from current font.\n",
      "  plt.tight_layout()\n",
      "/var/folders/y2/_3pq15pd08556v211gq9jslr0000gn/T/ipykernel_12394/3494677472.py:16: UserWarning: Glyph 32929 (\\N{CJK UNIFIED IDEOGRAPH-80A1}) missing from current font.\n",
      "  plt.tight_layout()\n",
      "/var/folders/y2/_3pq15pd08556v211gq9jslr0000gn/T/ipykernel_12394/3494677472.py:16: UserWarning: Glyph 31080 (\\N{CJK UNIFIED IDEOGRAPH-7968}) missing from current font.\n",
      "  plt.tight_layout()\n",
      "/var/folders/y2/_3pq15pd08556v211gq9jslr0000gn/T/ipykernel_12394/3494677472.py:16: UserWarning: Glyph 25910 (\\N{CJK UNIFIED IDEOGRAPH-6536}) missing from current font.\n",
      "  plt.tight_layout()\n",
      "/var/folders/y2/_3pq15pd08556v211gq9jslr0000gn/T/ipykernel_12394/3494677472.py:16: UserWarning: Glyph 30424 (\\N{CJK UNIFIED IDEOGRAPH-76D8}) missing from current font.\n",
      "  plt.tight_layout()\n",
      "/var/folders/y2/_3pq15pd08556v211gq9jslr0000gn/T/ipykernel_12394/3494677472.py:16: UserWarning: Glyph 36208 (\\N{CJK UNIFIED IDEOGRAPH-8D70}) missing from current font.\n",
      "  plt.tight_layout()\n",
      "/var/folders/y2/_3pq15pd08556v211gq9jslr0000gn/T/ipykernel_12394/3494677472.py:16: UserWarning: Glyph 21183 (\\N{CJK UNIFIED IDEOGRAPH-52BF}) missing from current font.\n",
      "  plt.tight_layout()\n",
      "/var/folders/y2/_3pq15pd08556v211gq9jslr0000gn/T/ipykernel_12394/3494677472.py:16: UserWarning: Glyph 22270 (\\N{CJK UNIFIED IDEOGRAPH-56FE}) missing from current font.\n",
      "  plt.tight_layout()\n",
      "/Users/sugardady/Documents/GitHub/AI-Quant-Trading/venv/lib/python3.11/site-packages/IPython/core/pylabtools.py:170: UserWarning: Glyph 20215 (\\N{CJK UNIFIED IDEOGRAPH-4EF7}) missing from current font.\n",
      "  fig.canvas.print_figure(bytes_io, **kw)\n",
      "/Users/sugardady/Documents/GitHub/AI-Quant-Trading/venv/lib/python3.11/site-packages/IPython/core/pylabtools.py:170: UserWarning: Glyph 26684 (\\N{CJK UNIFIED IDEOGRAPH-683C}) missing from current font.\n",
      "  fig.canvas.print_figure(bytes_io, **kw)\n",
      "/Users/sugardady/Documents/GitHub/AI-Quant-Trading/venv/lib/python3.11/site-packages/IPython/core/pylabtools.py:170: UserWarning: Glyph 32929 (\\N{CJK UNIFIED IDEOGRAPH-80A1}) missing from current font.\n",
      "  fig.canvas.print_figure(bytes_io, **kw)\n",
      "/Users/sugardady/Documents/GitHub/AI-Quant-Trading/venv/lib/python3.11/site-packages/IPython/core/pylabtools.py:170: UserWarning: Glyph 31080 (\\N{CJK UNIFIED IDEOGRAPH-7968}) missing from current font.\n",
      "  fig.canvas.print_figure(bytes_io, **kw)\n",
      "/Users/sugardady/Documents/GitHub/AI-Quant-Trading/venv/lib/python3.11/site-packages/IPython/core/pylabtools.py:170: UserWarning: Glyph 25910 (\\N{CJK UNIFIED IDEOGRAPH-6536}) missing from current font.\n",
      "  fig.canvas.print_figure(bytes_io, **kw)\n",
      "/Users/sugardady/Documents/GitHub/AI-Quant-Trading/venv/lib/python3.11/site-packages/IPython/core/pylabtools.py:170: UserWarning: Glyph 30424 (\\N{CJK UNIFIED IDEOGRAPH-76D8}) missing from current font.\n",
      "  fig.canvas.print_figure(bytes_io, **kw)\n",
      "/Users/sugardady/Documents/GitHub/AI-Quant-Trading/venv/lib/python3.11/site-packages/IPython/core/pylabtools.py:170: UserWarning: Glyph 36208 (\\N{CJK UNIFIED IDEOGRAPH-8D70}) missing from current font.\n",
      "  fig.canvas.print_figure(bytes_io, **kw)\n",
      "/Users/sugardady/Documents/GitHub/AI-Quant-Trading/venv/lib/python3.11/site-packages/IPython/core/pylabtools.py:170: UserWarning: Glyph 21183 (\\N{CJK UNIFIED IDEOGRAPH-52BF}) missing from current font.\n",
      "  fig.canvas.print_figure(bytes_io, **kw)\n",
      "/Users/sugardady/Documents/GitHub/AI-Quant-Trading/venv/lib/python3.11/site-packages/IPython/core/pylabtools.py:170: UserWarning: Glyph 22270 (\\N{CJK UNIFIED IDEOGRAPH-56FE}) missing from current font.\n",
      "  fig.canvas.print_figure(bytes_io, **kw)\n",
      "/Users/sugardady/Documents/GitHub/AI-Quant-Trading/venv/lib/python3.11/site-packages/IPython/core/pylabtools.py:170: UserWarning: Glyph 26085 (\\N{CJK UNIFIED IDEOGRAPH-65E5}) missing from current font.\n",
      "  fig.canvas.print_figure(bytes_io, **kw)\n",
      "/Users/sugardady/Documents/GitHub/AI-Quant-Trading/venv/lib/python3.11/site-packages/IPython/core/pylabtools.py:170: UserWarning: Glyph 26399 (\\N{CJK UNIFIED IDEOGRAPH-671F}) missing from current font.\n",
      "  fig.canvas.print_figure(bytes_io, **kw)\n"
     ]
    },
    {
     "data": {
      "image/png": "[encoded data removed]",
      "text/plain": [
       "<Figure size 1000x600 with 1 Axes>"
      ]
     },
     "metadata": {},
     "output_type": "display_data"
    }
   ],
   "source": [
    "# 绘制走势图\n",
    "plot_stock_price(stock_data)"
   ]
  },
  {
   "cell_type": "markdown",
   "metadata": {},
   "source": [
    "## 小结\n",
    "\n",
    "在这个Notebook中，我们学习了：\n",
    "1. 如何使用yfinance库获取股票历史数据\n",
    "2. 如何处理和查看数据\n",
    "3. 如何绘制股票价格走势图\n",
    "\n",
    "这是量化交易的第一步，接下来我们将深入学习更多数据分析和处理技术。"
   ]
  }
 ],
 "metadata": {
  "kernelspec": {
   "display_name": "venv",
   "language": "python",
   "name": "python3"
  },
  "language_info": {
   "codemirror_mode": {
    "name": "ipython",
    "version": 3
   },
   "file_extension": ".py",
   "mimetype": "text/x-python",
   "name": "python",
   "nbconvert_exporter": "python",
   "pygments_lexer": "ipython3",
   "version": "3.11.3"
  }
 },
 "nbformat": 4,
 "nbformat_minor": 4
}
